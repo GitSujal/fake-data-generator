{
 "cells": [
  {
   "cell_type": "code",
   "execution_count": 59,
   "metadata": {},
   "outputs": [],
   "source": [
    "import pandas as pd\n",
    "import numpy as np\n",
    "from faker import Faker\n",
    "from faker.providers import internet\n",
    "fake = Faker(['en_US'])\n",
    "fake.add_provider(internet)"
   ]
  },
  {
   "cell_type": "code",
   "execution_count": 60,
   "metadata": {},
   "outputs": [],
   "source": [
    "interaction_probs = {\n",
    "    'brand': 0.7,\n",
    "    'product_type': 0.5,\n",
    "    'size': 0.9,\n",
    "    'lens_color': 0.7,\n",
    "    'price_range': 0.65,\n",
    "    'prescription_glasses': 0.95,\n",
    "    'polarized_glasses': 0.6\n",
    "}"
   ]
  },
  {
   "cell_type": "code",
   "execution_count": 61,
   "metadata": {},
   "outputs": [],
   "source": [
    "users = pd.read_csv('../data/users.csv')\n",
    "products = pd.read_csv('../data/product.csv')"
   ]
  },
  {
   "cell_type": "code",
   "execution_count": 62,
   "metadata": {},
   "outputs": [
    {
     "data": {
      "text/plain": [
       "(3000, 8)"
      ]
     },
     "execution_count": 62,
     "metadata": {},
     "output_type": "execute_result"
    }
   ],
   "source": [
    "users.shape"
   ]
  },
  {
   "cell_type": "code",
   "execution_count": 63,
   "metadata": {},
   "outputs": [
    {
     "data": {
      "text/html": [
       "<div>\n",
       "<style scoped>\n",
       "    .dataframe tbody tr th:only-of-type {\n",
       "        vertical-align: middle;\n",
       "    }\n",
       "\n",
       "    .dataframe tbody tr th {\n",
       "        vertical-align: top;\n",
       "    }\n",
       "\n",
       "    .dataframe thead th {\n",
       "        text-align: right;\n",
       "    }\n",
       "</style>\n",
       "<table border=\"1\" class=\"dataframe\">\n",
       "  <thead>\n",
       "    <tr style=\"text-align: right;\">\n",
       "      <th></th>\n",
       "      <th>Brand</th>\n",
       "      <th>Product_Name</th>\n",
       "      <th>Price</th>\n",
       "      <th>Polarized Glasses</th>\n",
       "      <th>Prescibed Glasses</th>\n",
       "      <th>Frame_Color</th>\n",
       "      <th>Lense_Color</th>\n",
       "      <th>Eye_Size</th>\n",
       "      <th>Item ID</th>\n",
       "    </tr>\n",
       "  </thead>\n",
       "  <tbody>\n",
       "    <tr>\n",
       "      <th>0</th>\n",
       "      <td>Ray-Ban</td>\n",
       "      <td>Aviator RX6489</td>\n",
       "      <td>201.6</td>\n",
       "      <td>No</td>\n",
       "      <td>Yes</td>\n",
       "      <td>Silver</td>\n",
       "      <td>Clear</td>\n",
       "      <td>55</td>\n",
       "      <td>79189032</td>\n",
       "    </tr>\n",
       "    <tr>\n",
       "      <th>1</th>\n",
       "      <td>Valley</td>\n",
       "      <td>Tomahawk</td>\n",
       "      <td>260.0</td>\n",
       "      <td>No</td>\n",
       "      <td>No</td>\n",
       "      <td>Crystal with Silver Metal</td>\n",
       "      <td>Black</td>\n",
       "      <td>55</td>\n",
       "      <td>39878751</td>\n",
       "    </tr>\n",
       "    <tr>\n",
       "      <th>2</th>\n",
       "      <td>Oakley</td>\n",
       "      <td>Radar EV Path</td>\n",
       "      <td>333.9</td>\n",
       "      <td>No</td>\n",
       "      <td>No</td>\n",
       "      <td>Matte Grey Ink</td>\n",
       "      <td>Prizm Deep Water Polarised</td>\n",
       "      <td>55</td>\n",
       "      <td>39775104</td>\n",
       "    </tr>\n",
       "    <tr>\n",
       "      <th>3</th>\n",
       "      <td>Ray-Ban</td>\n",
       "      <td>Jim RB3694</td>\n",
       "      <td>219.6</td>\n",
       "      <td>Yes</td>\n",
       "      <td>No</td>\n",
       "      <td>Havana on Gunmetal</td>\n",
       "      <td>Vintage Brown Black Gradient Glass</td>\n",
       "      <td>55</td>\n",
       "      <td>31485446</td>\n",
       "    </tr>\n",
       "    <tr>\n",
       "      <th>4</th>\n",
       "      <td>Oakley</td>\n",
       "      <td>BiSphaera</td>\n",
       "      <td>300.6</td>\n",
       "      <td>No</td>\n",
       "      <td>No</td>\n",
       "      <td>Matte Carbon</td>\n",
       "      <td>Prizm</td>\n",
       "      <td>59</td>\n",
       "      <td>61448395</td>\n",
       "    </tr>\n",
       "  </tbody>\n",
       "</table>\n",
       "</div>"
      ],
      "text/plain": [
       "     Brand    Product_Name  Price Polarized Glasses Prescibed Glasses  \\\n",
       "0  Ray-Ban  Aviator RX6489  201.6                No               Yes   \n",
       "1   Valley        Tomahawk  260.0                No                No   \n",
       "2   Oakley   Radar EV Path  333.9                No                No   \n",
       "3  Ray-Ban      Jim RB3694  219.6               Yes                No   \n",
       "4   Oakley       BiSphaera  300.6                No                No   \n",
       "\n",
       "                 Frame_Color                           Lense_Color  Eye_Size  \\\n",
       "0                     Silver                               Clear          55   \n",
       "1  Crystal with Silver Metal                                 Black        55   \n",
       "2             Matte Grey Ink            Prizm Deep Water Polarised        55   \n",
       "3         Havana on Gunmetal  Vintage Brown Black Gradient Glass          55   \n",
       "4               Matte Carbon                                Prizm         59   \n",
       "\n",
       "    Item ID  \n",
       "0  79189032  \n",
       "1  39878751  \n",
       "2  39775104  \n",
       "3  31485446  \n",
       "4  61448395  "
      ]
     },
     "execution_count": 63,
     "metadata": {},
     "output_type": "execute_result"
    }
   ],
   "source": [
    "products.head()"
   ]
  },
  {
   "cell_type": "code",
   "execution_count": 64,
   "metadata": {},
   "outputs": [],
   "source": [
    "users.rename(columns={'User ID': 'user_id', 'First Name': 'first_name', 'Last Name': 'last_name', 'Email': 'email', 'Gender': 'gender', 'Postcode': 'postcode', 'Country': 'country'}, inplace=True)\n",
    "products.rename(columns={'Brand': 'brand', 'Product_Name': 'product_name', 'Price': 'price', 'Polarized Glasses': 'polarized_glasses', 'Lense_Color': 'lens_color', 'Frame_Color': 'frame_color', 'Prescibed Glasses': 'prescribed_glasses', 'Item ID': 'item_id', 'Eye_Size': 'eye_size'}, inplace=True)"
   ]
  },
  {
   "cell_type": "code",
   "execution_count": 65,
   "metadata": {},
   "outputs": [],
   "source": [
    "products['price_range'] = pd.cut(products['price'], bins=[0, 150, 400, 1000], labels=['simple', 'medium', 'high'])\n",
    "products.drop(columns=['price'], inplace=True)\n"
   ]
  },
  {
   "cell_type": "code",
   "execution_count": 66,
   "metadata": {},
   "outputs": [
    {
     "data": {
      "text/html": [
       "<div>\n",
       "<style scoped>\n",
       "    .dataframe tbody tr th:only-of-type {\n",
       "        vertical-align: middle;\n",
       "    }\n",
       "\n",
       "    .dataframe tbody tr th {\n",
       "        vertical-align: top;\n",
       "    }\n",
       "\n",
       "    .dataframe thead th {\n",
       "        text-align: right;\n",
       "    }\n",
       "</style>\n",
       "<table border=\"1\" class=\"dataframe\">\n",
       "  <thead>\n",
       "    <tr style=\"text-align: right;\">\n",
       "      <th></th>\n",
       "      <th>brand</th>\n",
       "      <th>product_name</th>\n",
       "      <th>polarized_glasses</th>\n",
       "      <th>prescribed_glasses</th>\n",
       "      <th>frame_color</th>\n",
       "      <th>lens_color</th>\n",
       "      <th>eye_size</th>\n",
       "      <th>item_id</th>\n",
       "      <th>price_range</th>\n",
       "    </tr>\n",
       "  </thead>\n",
       "  <tbody>\n",
       "    <tr>\n",
       "      <th>0</th>\n",
       "      <td>Ray-Ban</td>\n",
       "      <td>Aviator RX6489</td>\n",
       "      <td>No</td>\n",
       "      <td>Yes</td>\n",
       "      <td>Silver</td>\n",
       "      <td>Clear</td>\n",
       "      <td>55</td>\n",
       "      <td>79189032</td>\n",
       "      <td>medium</td>\n",
       "    </tr>\n",
       "    <tr>\n",
       "      <th>1</th>\n",
       "      <td>Valley</td>\n",
       "      <td>Tomahawk</td>\n",
       "      <td>No</td>\n",
       "      <td>No</td>\n",
       "      <td>Crystal with Silver Metal</td>\n",
       "      <td>Black</td>\n",
       "      <td>55</td>\n",
       "      <td>39878751</td>\n",
       "      <td>medium</td>\n",
       "    </tr>\n",
       "    <tr>\n",
       "      <th>2</th>\n",
       "      <td>Oakley</td>\n",
       "      <td>Radar EV Path</td>\n",
       "      <td>No</td>\n",
       "      <td>No</td>\n",
       "      <td>Matte Grey Ink</td>\n",
       "      <td>Prizm Deep Water Polarised</td>\n",
       "      <td>55</td>\n",
       "      <td>39775104</td>\n",
       "      <td>medium</td>\n",
       "    </tr>\n",
       "    <tr>\n",
       "      <th>3</th>\n",
       "      <td>Ray-Ban</td>\n",
       "      <td>Jim RB3694</td>\n",
       "      <td>Yes</td>\n",
       "      <td>No</td>\n",
       "      <td>Havana on Gunmetal</td>\n",
       "      <td>Vintage Brown Black Gradient Glass</td>\n",
       "      <td>55</td>\n",
       "      <td>31485446</td>\n",
       "      <td>medium</td>\n",
       "    </tr>\n",
       "    <tr>\n",
       "      <th>4</th>\n",
       "      <td>Oakley</td>\n",
       "      <td>BiSphaera</td>\n",
       "      <td>No</td>\n",
       "      <td>No</td>\n",
       "      <td>Matte Carbon</td>\n",
       "      <td>Prizm</td>\n",
       "      <td>59</td>\n",
       "      <td>61448395</td>\n",
       "      <td>medium</td>\n",
       "    </tr>\n",
       "  </tbody>\n",
       "</table>\n",
       "</div>"
      ],
      "text/plain": [
       "     brand    product_name polarized_glasses prescribed_glasses  \\\n",
       "0  Ray-Ban  Aviator RX6489                No                Yes   \n",
       "1   Valley        Tomahawk                No                 No   \n",
       "2   Oakley   Radar EV Path                No                 No   \n",
       "3  Ray-Ban      Jim RB3694               Yes                 No   \n",
       "4   Oakley       BiSphaera                No                 No   \n",
       "\n",
       "                 frame_color                            lens_color  eye_size  \\\n",
       "0                     Silver                               Clear          55   \n",
       "1  Crystal with Silver Metal                                 Black        55   \n",
       "2             Matte Grey Ink            Prizm Deep Water Polarised        55   \n",
       "3         Havana on Gunmetal  Vintage Brown Black Gradient Glass          55   \n",
       "4               Matte Carbon                                Prizm         59   \n",
       "\n",
       "    item_id price_range  \n",
       "0  79189032      medium  \n",
       "1  39878751      medium  \n",
       "2  39775104      medium  \n",
       "3  31485446      medium  \n",
       "4  61448395      medium  "
      ]
     },
     "execution_count": 66,
     "metadata": {},
     "output_type": "execute_result"
    }
   ],
   "source": [
    "products.head()"
   ]
  },
  {
   "cell_type": "code",
   "execution_count": 67,
   "metadata": {},
   "outputs": [
    {
     "data": {
      "text/html": [
       "<div>\n",
       "<style scoped>\n",
       "    .dataframe tbody tr th:only-of-type {\n",
       "        vertical-align: middle;\n",
       "    }\n",
       "\n",
       "    .dataframe tbody tr th {\n",
       "        vertical-align: top;\n",
       "    }\n",
       "\n",
       "    .dataframe thead th {\n",
       "        text-align: right;\n",
       "    }\n",
       "</style>\n",
       "<table border=\"1\" class=\"dataframe\">\n",
       "  <thead>\n",
       "    <tr style=\"text-align: right;\">\n",
       "      <th></th>\n",
       "      <th>eye_size</th>\n",
       "      <th>item_id</th>\n",
       "    </tr>\n",
       "  </thead>\n",
       "  <tbody>\n",
       "    <tr>\n",
       "      <th>count</th>\n",
       "      <td>649.000000</td>\n",
       "      <td>6.490000e+02</td>\n",
       "    </tr>\n",
       "    <tr>\n",
       "      <th>mean</th>\n",
       "      <td>54.701079</td>\n",
       "      <td>5.399391e+07</td>\n",
       "    </tr>\n",
       "    <tr>\n",
       "      <th>std</th>\n",
       "      <td>3.280604</td>\n",
       "      <td>2.625849e+07</td>\n",
       "    </tr>\n",
       "    <tr>\n",
       "      <th>min</th>\n",
       "      <td>48.000000</td>\n",
       "      <td>1.027084e+07</td>\n",
       "    </tr>\n",
       "    <tr>\n",
       "      <th>25%</th>\n",
       "      <td>53.000000</td>\n",
       "      <td>3.147833e+07</td>\n",
       "    </tr>\n",
       "    <tr>\n",
       "      <th>50%</th>\n",
       "      <td>54.000000</td>\n",
       "      <td>5.238143e+07</td>\n",
       "    </tr>\n",
       "    <tr>\n",
       "      <th>75%</th>\n",
       "      <td>57.000000</td>\n",
       "      <td>7.733439e+07</td>\n",
       "    </tr>\n",
       "    <tr>\n",
       "      <th>max</th>\n",
       "      <td>62.000000</td>\n",
       "      <td>9.988368e+07</td>\n",
       "    </tr>\n",
       "  </tbody>\n",
       "</table>\n",
       "</div>"
      ],
      "text/plain": [
       "         eye_size       item_id\n",
       "count  649.000000  6.490000e+02\n",
       "mean    54.701079  5.399391e+07\n",
       "std      3.280604  2.625849e+07\n",
       "min     48.000000  1.027084e+07\n",
       "25%     53.000000  3.147833e+07\n",
       "50%     54.000000  5.238143e+07\n",
       "75%     57.000000  7.733439e+07\n",
       "max     62.000000  9.988368e+07"
      ]
     },
     "execution_count": 67,
     "metadata": {},
     "output_type": "execute_result"
    }
   ],
   "source": [
    "products.describe()"
   ]
  },
  {
   "cell_type": "code",
   "execution_count": 68,
   "metadata": {},
   "outputs": [
    {
     "data": {
      "text/html": [
       "<div>\n",
       "<style scoped>\n",
       "    .dataframe tbody tr th:only-of-type {\n",
       "        vertical-align: middle;\n",
       "    }\n",
       "\n",
       "    .dataframe tbody tr th {\n",
       "        vertical-align: top;\n",
       "    }\n",
       "\n",
       "    .dataframe thead th {\n",
       "        text-align: right;\n",
       "    }\n",
       "</style>\n",
       "<table border=\"1\" class=\"dataframe\">\n",
       "  <thead>\n",
       "    <tr style=\"text-align: right;\">\n",
       "      <th></th>\n",
       "      <th>brand</th>\n",
       "      <th>product_name</th>\n",
       "      <th>polarized_glasses</th>\n",
       "      <th>prescribed_glasses</th>\n",
       "      <th>frame_color</th>\n",
       "      <th>lens_color</th>\n",
       "      <th>eye_size</th>\n",
       "      <th>item_id</th>\n",
       "      <th>price_range</th>\n",
       "    </tr>\n",
       "  </thead>\n",
       "  <tbody>\n",
       "    <tr>\n",
       "      <th>0</th>\n",
       "      <td>Ray-Ban</td>\n",
       "      <td>Aviator RX6489</td>\n",
       "      <td>No</td>\n",
       "      <td>Yes</td>\n",
       "      <td>Silver</td>\n",
       "      <td>Clear</td>\n",
       "      <td>55</td>\n",
       "      <td>79189032</td>\n",
       "      <td>medium</td>\n",
       "    </tr>\n",
       "    <tr>\n",
       "      <th>1</th>\n",
       "      <td>Valley</td>\n",
       "      <td>Tomahawk</td>\n",
       "      <td>No</td>\n",
       "      <td>No</td>\n",
       "      <td>Crystal with Silver Metal</td>\n",
       "      <td>Black</td>\n",
       "      <td>55</td>\n",
       "      <td>39878751</td>\n",
       "      <td>medium</td>\n",
       "    </tr>\n",
       "    <tr>\n",
       "      <th>2</th>\n",
       "      <td>Oakley</td>\n",
       "      <td>Radar EV Path</td>\n",
       "      <td>No</td>\n",
       "      <td>No</td>\n",
       "      <td>Matte Grey Ink</td>\n",
       "      <td>Prizm Deep Water Polarised</td>\n",
       "      <td>55</td>\n",
       "      <td>39775104</td>\n",
       "      <td>medium</td>\n",
       "    </tr>\n",
       "    <tr>\n",
       "      <th>3</th>\n",
       "      <td>Ray-Ban</td>\n",
       "      <td>Jim RB3694</td>\n",
       "      <td>Yes</td>\n",
       "      <td>No</td>\n",
       "      <td>Havana on Gunmetal</td>\n",
       "      <td>Vintage Brown Black Gradient Glass</td>\n",
       "      <td>55</td>\n",
       "      <td>31485446</td>\n",
       "      <td>medium</td>\n",
       "    </tr>\n",
       "    <tr>\n",
       "      <th>4</th>\n",
       "      <td>Oakley</td>\n",
       "      <td>BiSphaera</td>\n",
       "      <td>No</td>\n",
       "      <td>No</td>\n",
       "      <td>Matte Carbon</td>\n",
       "      <td>Prizm</td>\n",
       "      <td>59</td>\n",
       "      <td>61448395</td>\n",
       "      <td>medium</td>\n",
       "    </tr>\n",
       "  </tbody>\n",
       "</table>\n",
       "</div>"
      ],
      "text/plain": [
       "     brand    product_name polarized_glasses prescribed_glasses  \\\n",
       "0  Ray-Ban  Aviator RX6489                No                Yes   \n",
       "1   Valley        Tomahawk                No                 No   \n",
       "2   Oakley   Radar EV Path                No                 No   \n",
       "3  Ray-Ban      Jim RB3694               Yes                 No   \n",
       "4   Oakley       BiSphaera                No                 No   \n",
       "\n",
       "                 frame_color                            lens_color  eye_size  \\\n",
       "0                     Silver                               Clear          55   \n",
       "1  Crystal with Silver Metal                                 Black        55   \n",
       "2             Matte Grey Ink            Prizm Deep Water Polarised        55   \n",
       "3         Havana on Gunmetal  Vintage Brown Black Gradient Glass          55   \n",
       "4               Matte Carbon                                Prizm         59   \n",
       "\n",
       "    item_id price_range  \n",
       "0  79189032      medium  \n",
       "1  39878751      medium  \n",
       "2  39775104      medium  \n",
       "3  31485446      medium  \n",
       "4  61448395      medium  "
      ]
     },
     "execution_count": 68,
     "metadata": {},
     "output_type": "execute_result"
    }
   ],
   "source": [
    "products.head()"
   ]
  },
  {
   "cell_type": "code",
   "execution_count": 69,
   "metadata": {},
   "outputs": [
    {
     "data": {
      "text/plain": [
       "price_range\n",
       "medium    457\n",
       "high      175\n",
       "simple     17\n",
       "Name: count, dtype: int64"
      ]
     },
     "execution_count": 69,
     "metadata": {},
     "output_type": "execute_result"
    }
   ],
   "source": [
    "products.price_range.value_counts()"
   ]
  },
  {
   "cell_type": "code",
   "execution_count": 41,
   "metadata": {},
   "outputs": [],
   "source": [
    "interactions = []\n",
    "for user in users.itertuples():\n",
    "    num_interactions = max(0, int(np.random.normal(2, 3)))\n",
    "    for _ in range(num_interactions):\n",
    "        product = products.sample(1).iloc[0]\n",
    "        action = fake.random_element(elements=('purchased', 'added to cart', 'viewed'))\n",
    "        interactions.append((user.user_id, product.item_id, action))"
   ]
  },
  {
   "cell_type": "code",
   "execution_count": 62,
   "metadata": {},
   "outputs": [],
   "source": [
    "interactions_df = pd.DataFrame(interactions, columns=['user_id', 'item_id', 'action'])"
   ]
  },
  {
   "cell_type": "code",
   "execution_count": 63,
   "metadata": {},
   "outputs": [
    {
     "data": {
      "text/html": [
       "<div>\n",
       "<style scoped>\n",
       "    .dataframe tbody tr th:only-of-type {\n",
       "        vertical-align: middle;\n",
       "    }\n",
       "\n",
       "    .dataframe tbody tr th {\n",
       "        vertical-align: top;\n",
       "    }\n",
       "\n",
       "    .dataframe thead th {\n",
       "        text-align: right;\n",
       "    }\n",
       "</style>\n",
       "<table border=\"1\" class=\"dataframe\">\n",
       "  <thead>\n",
       "    <tr style=\"text-align: right;\">\n",
       "      <th></th>\n",
       "      <th>user_id</th>\n",
       "      <th>item_id</th>\n",
       "      <th>action</th>\n",
       "    </tr>\n",
       "  </thead>\n",
       "  <tbody>\n",
       "    <tr>\n",
       "      <th>0</th>\n",
       "      <td>9182230</td>\n",
       "      <td>16254540</td>\n",
       "      <td>purchased</td>\n",
       "    </tr>\n",
       "    <tr>\n",
       "      <th>1</th>\n",
       "      <td>9182230</td>\n",
       "      <td>47809062</td>\n",
       "      <td>viewed</td>\n",
       "    </tr>\n",
       "    <tr>\n",
       "      <th>2</th>\n",
       "      <td>9182230</td>\n",
       "      <td>59058335</td>\n",
       "      <td>added to cart</td>\n",
       "    </tr>\n",
       "    <tr>\n",
       "      <th>3</th>\n",
       "      <td>9182230</td>\n",
       "      <td>56177215</td>\n",
       "      <td>viewed</td>\n",
       "    </tr>\n",
       "    <tr>\n",
       "      <th>4</th>\n",
       "      <td>9182230</td>\n",
       "      <td>30551853</td>\n",
       "      <td>purchased</td>\n",
       "    </tr>\n",
       "  </tbody>\n",
       "</table>\n",
       "</div>"
      ],
      "text/plain": [
       "   user_id   item_id         action\n",
       "0  9182230  16254540      purchased\n",
       "1  9182230  47809062         viewed\n",
       "2  9182230  59058335  added to cart\n",
       "3  9182230  56177215         viewed\n",
       "4  9182230  30551853      purchased"
      ]
     },
     "execution_count": 63,
     "metadata": {},
     "output_type": "execute_result"
    }
   ],
   "source": [
    "interactions_df.head()"
   ]
  },
  {
   "cell_type": "code",
   "execution_count": 64,
   "metadata": {},
   "outputs": [
    {
     "data": {
      "text/plain": [
       "(6264, 3)"
      ]
     },
     "execution_count": 64,
     "metadata": {},
     "output_type": "execute_result"
    }
   ],
   "source": [
    "interactions_df.shape"
   ]
  },
  {
   "cell_type": "code",
   "execution_count": 32,
   "metadata": {},
   "outputs": [
    {
     "data": {
      "text/plain": [
       "np.int64(5)"
      ]
     },
     "execution_count": 32,
     "metadata": {},
     "output_type": "execute_result"
    }
   ],
   "source": [
    "interactions_df[interactions_df['user_id'] == 40769].value_counts().sum()"
   ]
  },
  {
   "cell_type": "code",
   "execution_count": 33,
   "metadata": {},
   "outputs": [
    {
     "data": {
      "text/html": [
       "<div>\n",
       "<style scoped>\n",
       "    .dataframe tbody tr th:only-of-type {\n",
       "        vertical-align: middle;\n",
       "    }\n",
       "\n",
       "    .dataframe tbody tr th {\n",
       "        vertical-align: top;\n",
       "    }\n",
       "\n",
       "    .dataframe thead th {\n",
       "        text-align: right;\n",
       "    }\n",
       "</style>\n",
       "<table border=\"1\" class=\"dataframe\">\n",
       "  <thead>\n",
       "    <tr style=\"text-align: right;\">\n",
       "      <th></th>\n",
       "      <th>brand</th>\n",
       "      <th>product_name</th>\n",
       "      <th>price</th>\n",
       "      <th>polarized</th>\n",
       "      <th>prescription</th>\n",
       "      <th>frame_color</th>\n",
       "      <th>Lense_Color</th>\n",
       "      <th>eye_size</th>\n",
       "      <th>item_id</th>\n",
       "    </tr>\n",
       "  </thead>\n",
       "  <tbody>\n",
       "    <tr>\n",
       "      <th>189</th>\n",
       "      <td>Prada Linea Rossa</td>\n",
       "      <td>PS06PV</td>\n",
       "      <td>324.9</td>\n",
       "      <td>No</td>\n",
       "      <td>Prescribed Glasses</td>\n",
       "      <td>Black Rubber</td>\n",
       "      <td>Clear</td>\n",
       "      <td>NaN</td>\n",
       "      <td>88600039</td>\n",
       "    </tr>\n",
       "    <tr>\n",
       "      <th>307</th>\n",
       "      <td>Dolce &amp; Gabbana</td>\n",
       "      <td>DG4416</td>\n",
       "      <td>334.8</td>\n",
       "      <td>No</td>\n",
       "      <td>Prescribed Sunglasses</td>\n",
       "      <td>Leopard</td>\n",
       "      <td>Dark Grey</td>\n",
       "      <td>NaN</td>\n",
       "      <td>79943660</td>\n",
       "    </tr>\n",
       "    <tr>\n",
       "      <th>449</th>\n",
       "      <td>Oakley Youth</td>\n",
       "      <td>Capacitor</td>\n",
       "      <td>133.0</td>\n",
       "      <td>No</td>\n",
       "      <td>Prescribed Sunglasses</td>\n",
       "      <td>Polished Stonewash</td>\n",
       "      <td>Prizm Road</td>\n",
       "      <td>NaN</td>\n",
       "      <td>58991390</td>\n",
       "    </tr>\n",
       "    <tr>\n",
       "      <th>564</th>\n",
       "      <td>Coach</td>\n",
       "      <td>HC8392U</td>\n",
       "      <td>215.9</td>\n",
       "      <td>Yes</td>\n",
       "      <td>Prescribed Sunglasses</td>\n",
       "      <td>Black</td>\n",
       "      <td>Grey Gradient</td>\n",
       "      <td>NaN</td>\n",
       "      <td>30551853</td>\n",
       "    </tr>\n",
       "    <tr>\n",
       "      <th>638</th>\n",
       "      <td>Michael Kors</td>\n",
       "      <td>Karlie MK2170U</td>\n",
       "      <td>228.6</td>\n",
       "      <td>Yes</td>\n",
       "      <td>Prescribed Sunglasses</td>\n",
       "      <td>Black</td>\n",
       "      <td>Grey Gradient Polarised</td>\n",
       "      <td>NaN</td>\n",
       "      <td>32575973</td>\n",
       "    </tr>\n",
       "  </tbody>\n",
       "</table>\n",
       "</div>"
      ],
      "text/plain": [
       "                 brand    product_name  price polarized  \\\n",
       "189  Prada Linea Rossa          PS06PV  324.9        No   \n",
       "307    Dolce & Gabbana          DG4416  334.8        No   \n",
       "449       Oakley Youth       Capacitor  133.0        No   \n",
       "564              Coach         HC8392U  215.9       Yes   \n",
       "638       Michael Kors  Karlie MK2170U  228.6       Yes   \n",
       "\n",
       "              prescription         frame_color              Lense_Color  \\\n",
       "189     Prescribed Glasses        Black Rubber                    Clear   \n",
       "307  Prescribed Sunglasses             Leopard                Dark Grey   \n",
       "449  Prescribed Sunglasses  Polished Stonewash               Prizm Road   \n",
       "564  Prescribed Sunglasses               Black            Grey Gradient   \n",
       "638  Prescribed Sunglasses               Black  Grey Gradient Polarised   \n",
       "\n",
       "    eye_size   item_id  \n",
       "189      NaN  88600039  \n",
       "307      NaN  79943660  \n",
       "449      NaN  58991390  \n",
       "564      NaN  30551853  \n",
       "638      NaN  32575973  "
      ]
     },
     "execution_count": 33,
     "metadata": {},
     "output_type": "execute_result"
    }
   ],
   "source": [
    "# show the prouct table with item_id as 58991390, 32575973, 79943660, 88600039, 30551853\n",
    "products[products['item_id'].isin([58991390, 32575973, 79943660, 88600039, 30551853])]\n"
   ]
  },
  {
   "cell_type": "code",
   "execution_count": 34,
   "metadata": {},
   "outputs": [
    {
     "data": {
      "text/plain": [
       "action\n",
       "added to cart    2206\n",
       "viewed           2171\n",
       "purchased        2155\n",
       "Name: count, dtype: int64"
      ]
     },
     "execution_count": 34,
     "metadata": {},
     "output_type": "execute_result"
    }
   ],
   "source": [
    "interactions_df['action'].value_counts()"
   ]
  },
  {
   "cell_type": "markdown",
   "metadata": {},
   "source": [
    "---"
   ]
  },
  {
   "cell_type": "code",
   "execution_count": 70,
   "metadata": {},
   "outputs": [],
   "source": [
    "import numpy as np\n",
    "import pandas as pd\n",
    "from faker import Faker\n",
    "\n",
    "# Initialize Faker instance\n",
    "fake = Faker()\n",
    "\n",
    "# Define interaction probabilities for product attributes\n",
    "interaction_probs = {\n",
    "    'brand': 0.7,\n",
    "    'product_name': 0.5,\n",
    "    'eye_size': 0.9,\n",
    "    'lens_color': 0.7,\n",
    "    'price_range': 0.65,\n",
    "    'prescribed_glasses': 0.95,\n",
    "    'polarized_glasses': 0.6\n",
    "}\n",
    "\n",
    "# Define action probabilities\n",
    "action_probs = {\n",
    "    'purchased': 0.5,\n",
    "    'added_to_cart': 0.3,\n",
    "    'viewed': 0.2\n",
    "}\n",
    "\n",
    "# Generate number of interactions per user with a normal distribution, ensuring range [1, 50]\n",
    "num_users = len(users)\n",
    "target_interactions = 100000  # Target total interactions\n",
    "\n",
    "# Generate normal distribution interaction counts (mean=25, std=10), limit between 1 and 50\n",
    "user_interactions = np.random.normal(loc=25, scale=10, size=num_users)\n",
    "user_interactions = np.clip(user_interactions, 1, 50).astype(int)  # Keep interactions between 1 and 50\n",
    "\n",
    "# Rescale the interactions to match the target number of interactions\n",
    "scaled_interactions = (user_interactions / user_interactions.sum()) * target_interactions\n",
    "scaled_interactions = np.round(scaled_interactions).astype(int)\n",
    "\n",
    "# Ensure that after scaling, no user exceeds 50 interactions\n",
    "scaled_interactions = np.clip(scaled_interactions, 1, 50)\n",
    "\n",
    "# Initialize dictionary to store previous user preferences\n",
    "user_preferences = {}\n",
    "\n",
    "interactions = []\n",
    "\n",
    "# Product attributes to track for each user\n",
    "tracked_attributes = ['brand', 'product_name', 'eye_size', 'lens_color', 'price_range', 'polarized_glasses', 'prescribed_glasses']\n",
    "\n",
    "# Iterate over each user and generate their interactions\n",
    "for user, num_interactions in zip(users.itertuples(), scaled_interactions):\n",
    "    # Initialize user preferences if they don't exist\n",
    "    user_id = user.user_id\n",
    "    if user_id not in user_preferences:\n",
    "        user_preferences[user_id] = {attr: None for attr in tracked_attributes}\n",
    "    \n",
    "    for _ in range(num_interactions):\n",
    "        # Sample a product for this interaction (new random product)\n",
    "        product = products.sample(1).iloc[0]\n",
    "        \n",
    "        # For each tracked attribute, decide whether to stick with the previous choice or pick a new one\n",
    "        selected_attributes = {}\n",
    "        for attr in tracked_attributes:\n",
    "            if user_preferences[user_id][attr] and np.random.rand() < interaction_probs[attr]:\n",
    "                # Stick with the previous choice\n",
    "                selected_attributes[attr] = user_preferences[user_id][attr]\n",
    "            else:\n",
    "                # Choose a new attribute from the product\n",
    "                selected_attributes[attr] = product[attr]\n",
    "        \n",
    "        # Update user preferences with the selected product attributes\n",
    "        for attr in tracked_attributes:\n",
    "            user_preferences[user_id][attr] = selected_attributes[attr]\n",
    "        \n",
    "        # Use np.random.choice to generate a random action based on probabilities\n",
    "        action = np.random.choice(\n",
    "            ['purchased', 'added_to_cart', 'viewed'],\n",
    "            p=[action_probs['purchased'], action_probs['added_to_cart'], action_probs['viewed']]\n",
    "        )\n",
    "        \n",
    "        # Append the interaction tuple (user_id, item_id, Action) to the interactions list\n",
    "        interactions.append((user.user_id,\n",
    "                             product.item_id, \n",
    "                             action,\n",
    "                             selected_attributes['brand'],\n",
    "                             selected_attributes['product_name'],\n",
    "                             selected_attributes['eye_size'],\n",
    "                             selected_attributes['lens_color'],\n",
    "                             selected_attributes['price_range'],\n",
    "                             selected_attributes['polarized_glasses'],\n",
    "                             selected_attributes['prescribed_glasses']))\n",
    "\n",
    "# Convert to a DataFrame for further processing or storage\n",
    "interactions_df = pd.DataFrame(interactions, columns=[\n",
    "    'user_id', 'item_id', 'action', 'brand', 'product_name', 'eye_size', 'lens_color', 'price_range', 'polarized_glasses', 'prescribed_glasses'\n",
    "])\n",
    "\n",
    "# Check if interactions are within valid limits\n",
    "assert interactions_df['user_id'].nunique() == num_users, \"Not all users are included!\"\n",
    "assert interactions_df.groupby('user_id').size().max() <= 50, \"Some users have more than 50 interactions!\"\n",
    "assert interactions_df.groupby('user_id').size().min() >= 1, \"Some users have less than 1 interaction!\""
   ]
  },
  {
   "cell_type": "code",
   "execution_count": 71,
   "metadata": {},
   "outputs": [
    {
     "data": {
      "text/plain": [
       "(97814, 10)"
      ]
     },
     "execution_count": 71,
     "metadata": {},
     "output_type": "execute_result"
    }
   ],
   "source": [
    "interactions_df.shape"
   ]
  },
  {
   "cell_type": "code",
   "execution_count": 76,
   "metadata": {},
   "outputs": [
    {
     "data": {
      "text/plain": [
       "3000"
      ]
     },
     "execution_count": 76,
     "metadata": {},
     "output_type": "execute_result"
    }
   ],
   "source": [
    "interactions_df.user_id.nunique()"
   ]
  },
  {
   "cell_type": "code",
   "execution_count": 77,
   "metadata": {},
   "outputs": [
    {
     "data": {
      "text/plain": [
       "np.int64(1)"
      ]
     },
     "execution_count": 77,
     "metadata": {},
     "output_type": "execute_result"
    }
   ],
   "source": [
    "interactions_df.user_id.value_counts().min()"
   ]
  },
  {
   "cell_type": "code",
   "execution_count": 78,
   "metadata": {},
   "outputs": [
    {
     "data": {
      "text/plain": [
       "np.int64(50)"
      ]
     },
     "execution_count": 78,
     "metadata": {},
     "output_type": "execute_result"
    }
   ],
   "source": [
    "interactions_df.user_id.value_counts().max()"
   ]
  },
  {
   "cell_type": "code",
   "execution_count": 79,
   "metadata": {},
   "outputs": [],
   "source": [
    "users = pd.read_csv('../data/users.csv')\n",
    "\n",
    "users.rename(columns={'User ID': 'user_id', 'First Name': 'first_name', 'Last Name': 'last_name', 'Email': 'email', 'Age': 'age', 'Gender': 'gender', 'Postcode': 'postcode', 'Country': 'country'}, inplace=True)\n",
    "\n",
    "# add the user details to the interactions_df\n",
    "new_df = users.merge(interactions_df, on='user_id')"
   ]
  },
  {
   "cell_type": "code",
   "execution_count": 80,
   "metadata": {},
   "outputs": [],
   "source": [
    "# mix the data\n",
    "save_df = new_df.sample(frac=1).reset_index(drop=True)"
   ]
  },
  {
   "cell_type": "code",
   "execution_count": 81,
   "metadata": {},
   "outputs": [
    {
     "data": {
      "text/plain": [
       "(97814, 17)"
      ]
     },
     "execution_count": 81,
     "metadata": {},
     "output_type": "execute_result"
    }
   ],
   "source": [
    "save_df.shape"
   ]
  },
  {
   "cell_type": "code",
   "execution_count": 82,
   "metadata": {},
   "outputs": [
    {
     "data": {
      "text/html": [
       "<div>\n",
       "<style scoped>\n",
       "    .dataframe tbody tr th:only-of-type {\n",
       "        vertical-align: middle;\n",
       "    }\n",
       "\n",
       "    .dataframe tbody tr th {\n",
       "        vertical-align: top;\n",
       "    }\n",
       "\n",
       "    .dataframe thead th {\n",
       "        text-align: right;\n",
       "    }\n",
       "</style>\n",
       "<table border=\"1\" class=\"dataframe\">\n",
       "  <thead>\n",
       "    <tr style=\"text-align: right;\">\n",
       "      <th></th>\n",
       "      <th>user_id</th>\n",
       "      <th>first_name</th>\n",
       "      <th>last_name</th>\n",
       "      <th>email</th>\n",
       "      <th>age</th>\n",
       "      <th>gender</th>\n",
       "      <th>postcode</th>\n",
       "      <th>country</th>\n",
       "      <th>item_id</th>\n",
       "      <th>action</th>\n",
       "      <th>brand</th>\n",
       "      <th>product_name</th>\n",
       "      <th>eye_size</th>\n",
       "      <th>lens_color</th>\n",
       "      <th>price_range</th>\n",
       "      <th>polarized_glasses</th>\n",
       "      <th>prescribed_glasses</th>\n",
       "    </tr>\n",
       "  </thead>\n",
       "  <tbody>\n",
       "    <tr>\n",
       "      <th>0</th>\n",
       "      <td>8356259</td>\n",
       "      <td>James</td>\n",
       "      <td>Salas</td>\n",
       "      <td>James.Salas.DDS@ross.net</td>\n",
       "      <td>42</td>\n",
       "      <td>Male</td>\n",
       "      <td>3720</td>\n",
       "      <td>Australia</td>\n",
       "      <td>43796976</td>\n",
       "      <td>added_to_cart</td>\n",
       "      <td>Versace</td>\n",
       "      <td>1739/F/SK</td>\n",
       "      <td>56</td>\n",
       "      <td>Clear</td>\n",
       "      <td>medium</td>\n",
       "      <td>No</td>\n",
       "      <td>Yes</td>\n",
       "    </tr>\n",
       "    <tr>\n",
       "      <th>1</th>\n",
       "      <td>6612383</td>\n",
       "      <td>Rebecca</td>\n",
       "      <td>Patterson</td>\n",
       "      <td>Rebecca.Patterson@wade.net</td>\n",
       "      <td>61</td>\n",
       "      <td>Male</td>\n",
       "      <td>3059</td>\n",
       "      <td>Australia</td>\n",
       "      <td>96224516</td>\n",
       "      <td>viewed</td>\n",
       "      <td>Prada</td>\n",
       "      <td>PRA08V</td>\n",
       "      <td>50</td>\n",
       "      <td>Clear</td>\n",
       "      <td>medium</td>\n",
       "      <td>No</td>\n",
       "      <td>Yes</td>\n",
       "    </tr>\n",
       "    <tr>\n",
       "      <th>2</th>\n",
       "      <td>3844909</td>\n",
       "      <td>Meagan</td>\n",
       "      <td>Kirk</td>\n",
       "      <td>Meagan.Kirk@carey-manning.org</td>\n",
       "      <td>69</td>\n",
       "      <td>Female</td>\n",
       "      <td>2582</td>\n",
       "      <td>Australia</td>\n",
       "      <td>46937700</td>\n",
       "      <td>purchased</td>\n",
       "      <td>Ray-Ban</td>\n",
       "      <td>Kat RX7327</td>\n",
       "      <td>56</td>\n",
       "      <td>Clear</td>\n",
       "      <td>medium</td>\n",
       "      <td>No</td>\n",
       "      <td>Yes</td>\n",
       "    </tr>\n",
       "    <tr>\n",
       "      <th>3</th>\n",
       "      <td>3094472</td>\n",
       "      <td>Leah</td>\n",
       "      <td>Mitchell</td>\n",
       "      <td>Leah.Mitchell@fisher.com.au</td>\n",
       "      <td>33</td>\n",
       "      <td>Female</td>\n",
       "      <td>4892</td>\n",
       "      <td>Australia</td>\n",
       "      <td>68796712</td>\n",
       "      <td>added_to_cart</td>\n",
       "      <td>Dolce &amp; Gabbana</td>\n",
       "      <td>PR15WS</td>\n",
       "      <td>57</td>\n",
       "      <td>Clear</td>\n",
       "      <td>medium</td>\n",
       "      <td>No</td>\n",
       "      <td>No</td>\n",
       "    </tr>\n",
       "    <tr>\n",
       "      <th>4</th>\n",
       "      <td>6234966</td>\n",
       "      <td>Katie</td>\n",
       "      <td>Richards</td>\n",
       "      <td>Katie.Richards@wilson.biz</td>\n",
       "      <td>20</td>\n",
       "      <td>Female</td>\n",
       "      <td>6323</td>\n",
       "      <td>Australia</td>\n",
       "      <td>63577055</td>\n",
       "      <td>added_to_cart</td>\n",
       "      <td>Valley</td>\n",
       "      <td>VE3338</td>\n",
       "      <td>61</td>\n",
       "      <td>Dark Green Polarised</td>\n",
       "      <td>high</td>\n",
       "      <td>No</td>\n",
       "      <td>Yes</td>\n",
       "    </tr>\n",
       "  </tbody>\n",
       "</table>\n",
       "</div>"
      ],
      "text/plain": [
       "   user_id first_name  last_name                          email  age  gender  \\\n",
       "0  8356259      James      Salas       James.Salas.DDS@ross.net   42    Male   \n",
       "1  6612383    Rebecca  Patterson     Rebecca.Patterson@wade.net   61    Male   \n",
       "2  3844909     Meagan       Kirk  Meagan.Kirk@carey-manning.org   69  Female   \n",
       "3  3094472       Leah   Mitchell    Leah.Mitchell@fisher.com.au   33  Female   \n",
       "4  6234966      Katie   Richards      Katie.Richards@wilson.biz   20  Female   \n",
       "\n",
       "   postcode    country   item_id         action            brand product_name  \\\n",
       "0      3720  Australia  43796976  added_to_cart          Versace    1739/F/SK   \n",
       "1      3059  Australia  96224516         viewed            Prada       PRA08V   \n",
       "2      2582  Australia  46937700      purchased          Ray-Ban   Kat RX7327   \n",
       "3      4892  Australia  68796712  added_to_cart  Dolce & Gabbana       PR15WS   \n",
       "4      6323  Australia  63577055  added_to_cart           Valley       VE3338   \n",
       "\n",
       "   eye_size              lens_color price_range polarized_glasses  \\\n",
       "0        56                   Clear      medium                No   \n",
       "1        50                 Clear        medium                No   \n",
       "2        56                   Clear      medium                No   \n",
       "3        57                   Clear      medium                No   \n",
       "4        61  Dark Green Polarised          high                No   \n",
       "\n",
       "  prescribed_glasses  \n",
       "0                Yes  \n",
       "1                Yes  \n",
       "2                Yes  \n",
       "3                 No  \n",
       "4                Yes  "
      ]
     },
     "execution_count": 82,
     "metadata": {},
     "output_type": "execute_result"
    }
   ],
   "source": [
    "save_df.head()"
   ]
  },
  {
   "cell_type": "code",
   "execution_count": 83,
   "metadata": {},
   "outputs": [],
   "source": [
    "save_df.to_csv('../data/merged_data.csv', index=False)"
   ]
  },
  {
   "cell_type": "code",
   "execution_count": 84,
   "metadata": {},
   "outputs": [
    {
     "data": {
      "text/plain": [
       "item_id\n",
       "68135025    189\n",
       "72385789    189\n",
       "94007454    187\n",
       "61448395    183\n",
       "63579042    183\n",
       "Name: count, dtype: int64"
      ]
     },
     "execution_count": 84,
     "metadata": {},
     "output_type": "execute_result"
    }
   ],
   "source": [
    "save_df.item_id.value_counts().sort_values(ascending=False).head()"
   ]
  },
  {
   "cell_type": "markdown",
   "metadata": {},
   "source": [
    "---"
   ]
  },
  {
   "cell_type": "code",
   "execution_count": 131,
   "metadata": {},
   "outputs": [],
   "source": [
    "import pandas as pd\n",
    "import numpy as np\n",
    "from faker import Faker\n",
    "\n",
    "# Define interaction probabilities\n",
    "interaction_probs = {\n",
    "    'brand': 0.7,\n",
    "    'product_name': 0.5,\n",
    "    'eye_size': 0.9,\n",
    "    'lens_color': 0.7,\n",
    "    'price': 0.65,\n",
    "    'prescription': 0.95,\n",
    "    'polarized': 0.6\n",
    "}\n",
    "\n",
    "interaction_type_probs = ['purchased'] * 60 + ['added_to_cart'] * 30 + ['viewed'] * 10\n",
    "\n",
    "interactions = []\n",
    "total_interactions = 100000\n",
    "user_interactions = np.random.normal(2, 3, len(users))\n",
    "user_interactions = np.clip(user_interactions, 0, 10).astype(int)\n",
    "\n",
    "# Adjust the total number of interactions to sum up to 100,000\n",
    "scaling_factor = total_interactions / user_interactions.sum()\n",
    "user_interactions = (user_interactions * scaling_factor).astype(int)\n",
    "\n",
    "# Ensure total interactions are exactly 100,000\n",
    "while user_interactions.sum() != total_interactions:\n",
    "    diff = total_interactions - user_interactions.sum()\n",
    "    indices = np.random.choice(len(user_interactions), abs(diff))\n",
    "    user_interactions[indices] += np.sign(diff)\n",
    "\n",
    "# Ensure all user IDs are used\n",
    "user_interactions = np.clip(user_interactions, 0, 10)\n",
    "remaining_interactions = total_interactions - user_interactions.sum()\n",
    "additional_interactions = np.random.choice(len(users), remaining_interactions)\n",
    "for idx in additional_interactions:\n",
    "    if user_interactions[idx] < 10:\n",
    "        user_interactions[idx] += 1\n",
    "\n",
    "for user, num_interactions in zip(users.itertuples(), user_interactions):\n",
    "    for _ in range(num_interactions):\n",
    "        product = products.sample(1).iloc[0]\n",
    "        action = np.random.choice(interaction_type_probs)\n",
    "        interactions.append((user.user_id, product.item_id, action))\n",
    "\n",
    "# Create User Interaction Table\n",
    "interactions_df = pd.DataFrame(interactions, columns=['user_id', 'item_id', 'Action'])"
   ]
  },
  {
   "cell_type": "code",
   "execution_count": 132,
   "metadata": {},
   "outputs": [
    {
     "data": {
      "text/plain": [
       "(30000, 3)"
      ]
     },
     "execution_count": 132,
     "metadata": {},
     "output_type": "execute_result"
    }
   ],
   "source": [
    "interactions_df.shape"
   ]
  },
  {
   "cell_type": "code",
   "execution_count": 1,
   "metadata": {},
   "outputs": [
    {
     "ename": "NameError",
     "evalue": "name 'interactions_df' is not defined",
     "output_type": "error",
     "traceback": [
      "\u001b[1;31m---------------------------------------------------------------------------\u001b[0m",
      "\u001b[1;31mNameError\u001b[0m                                 Traceback (most recent call last)",
      "Cell \u001b[1;32mIn[1], line 1\u001b[0m\n\u001b[1;32m----> 1\u001b[0m \u001b[43minteractions_df\u001b[49m\u001b[38;5;241m.\u001b[39muser_id\u001b[38;5;241m.\u001b[39mvalue_counts()\u001b[38;5;241m.\u001b[39mmean()\n",
      "\u001b[1;31mNameError\u001b[0m: name 'interactions_df' is not defined"
     ]
    }
   ],
   "source": [
    "interactions_df.user_id.value_counts().mean()"
   ]
  },
  {
   "cell_type": "code",
   "execution_count": 125,
   "metadata": {},
   "outputs": [
    {
     "data": {
      "text/plain": [
       "3000"
      ]
     },
     "execution_count": 125,
     "metadata": {},
     "output_type": "execute_result"
    }
   ],
   "source": [
    "interactions_df.user_id.nunique()"
   ]
  },
  {
   "cell_type": "code",
   "execution_count": 127,
   "metadata": {},
   "outputs": [
    {
     "data": {
      "text/plain": [
       "np.int64(10)"
      ]
     },
     "execution_count": 127,
     "metadata": {},
     "output_type": "execute_result"
    }
   ],
   "source": [
    "interactions_df[interactions_df['user_id']==33257].value_counts().sum()"
   ]
  },
  {
   "cell_type": "code",
   "execution_count": 113,
   "metadata": {},
   "outputs": [
    {
     "data": {
      "text/html": [
       "<div>\n",
       "<style scoped>\n",
       "    .dataframe tbody tr th:only-of-type {\n",
       "        vertical-align: middle;\n",
       "    }\n",
       "\n",
       "    .dataframe tbody tr th {\n",
       "        vertical-align: top;\n",
       "    }\n",
       "\n",
       "    .dataframe thead th {\n",
       "        text-align: right;\n",
       "    }\n",
       "</style>\n",
       "<table border=\"1\" class=\"dataframe\">\n",
       "  <thead>\n",
       "    <tr style=\"text-align: right;\">\n",
       "      <th></th>\n",
       "      <th>user_id</th>\n",
       "      <th>first_name</th>\n",
       "      <th>last_name</th>\n",
       "      <th>email</th>\n",
       "      <th>Age</th>\n",
       "      <th>gender</th>\n",
       "      <th>postcode</th>\n",
       "      <th>country</th>\n",
       "    </tr>\n",
       "  </thead>\n",
       "  <tbody>\n",
       "    <tr>\n",
       "      <th>2361</th>\n",
       "      <td>78804</td>\n",
       "      <td>Dakota</td>\n",
       "      <td>Henry</td>\n",
       "      <td>Dakota.Henry@osborne.edu</td>\n",
       "      <td>67</td>\n",
       "      <td>Female</td>\n",
       "      <td>3685</td>\n",
       "      <td>Australia</td>\n",
       "    </tr>\n",
       "  </tbody>\n",
       "</table>\n",
       "</div>"
      ],
      "text/plain": [
       "      user_id first_name last_name                     email  Age  gender  \\\n",
       "2361    78804     Dakota     Henry  Dakota.Henry@osborne.edu   67  Female   \n",
       "\n",
       "      postcode    country  \n",
       "2361      3685  Australia  "
      ]
     },
     "execution_count": 113,
     "metadata": {},
     "output_type": "execute_result"
    }
   ],
   "source": [
    "users[users['user_id'] == 78804]"
   ]
  },
  {
   "cell_type": "code",
   "execution_count": 114,
   "metadata": {},
   "outputs": [
    {
     "data": {
      "text/html": [
       "<div>\n",
       "<style scoped>\n",
       "    .dataframe tbody tr th:only-of-type {\n",
       "        vertical-align: middle;\n",
       "    }\n",
       "\n",
       "    .dataframe tbody tr th {\n",
       "        vertical-align: top;\n",
       "    }\n",
       "\n",
       "    .dataframe thead th {\n",
       "        text-align: right;\n",
       "    }\n",
       "</style>\n",
       "<table border=\"1\" class=\"dataframe\">\n",
       "  <thead>\n",
       "    <tr style=\"text-align: right;\">\n",
       "      <th></th>\n",
       "      <th>brand</th>\n",
       "      <th>product_name</th>\n",
       "      <th>price</th>\n",
       "      <th>polarized</th>\n",
       "      <th>prescription</th>\n",
       "      <th>frame_color</th>\n",
       "      <th>Lense_Color</th>\n",
       "      <th>eye_size</th>\n",
       "      <th>item_id</th>\n",
       "    </tr>\n",
       "  </thead>\n",
       "  <tbody>\n",
       "    <tr>\n",
       "      <th>167</th>\n",
       "      <td>Oakley</td>\n",
       "      <td>Port Bow OX8164</td>\n",
       "      <td>174.6</td>\n",
       "      <td>No</td>\n",
       "      <td>Prescribed Glasses</td>\n",
       "      <td>Polished Clear</td>\n",
       "      <td>Clear</td>\n",
       "      <td>53 Eye Size</td>\n",
       "      <td>29419077</td>\n",
       "    </tr>\n",
       "    <tr>\n",
       "      <th>274</th>\n",
       "      <td>Miu Miu</td>\n",
       "      <td>MU56ZS</td>\n",
       "      <td>538.2</td>\n",
       "      <td>No</td>\n",
       "      <td>Prescribed Sunglasses</td>\n",
       "      <td>Gold</td>\n",
       "      <td>Light Purple Brown</td>\n",
       "      <td>NaN</td>\n",
       "      <td>74716998</td>\n",
       "    </tr>\n",
       "    <tr>\n",
       "      <th>364</th>\n",
       "      <td>Ray-Ban</td>\n",
       "      <td>New Round RB3637</td>\n",
       "      <td>232.2</td>\n",
       "      <td>No</td>\n",
       "      <td>Prescribed Sunglasses</td>\n",
       "      <td>Gold</td>\n",
       "      <td>Blue Gradient Glass</td>\n",
       "      <td>53 Eye Size</td>\n",
       "      <td>98350457</td>\n",
       "    </tr>\n",
       "    <tr>\n",
       "      <th>432</th>\n",
       "      <td>Oakley</td>\n",
       "      <td>Cables</td>\n",
       "      <td>179.1</td>\n",
       "      <td>No</td>\n",
       "      <td>Prescribed Sunglasses</td>\n",
       "      <td>Blue Steel</td>\n",
       "      <td>Prizm Sapphire</td>\n",
       "      <td>NaN</td>\n",
       "      <td>24718532</td>\n",
       "    </tr>\n",
       "    <tr>\n",
       "      <th>532</th>\n",
       "      <td>Ray-Ban</td>\n",
       "      <td>RB3751</td>\n",
       "      <td>196.2</td>\n",
       "      <td>Yes</td>\n",
       "      <td>Prescribed Sunglasses</td>\n",
       "      <td>Black</td>\n",
       "      <td>Green Glass</td>\n",
       "      <td>58 Eye Size</td>\n",
       "      <td>72027396</td>\n",
       "    </tr>\n",
       "  </tbody>\n",
       "</table>\n",
       "</div>"
      ],
      "text/plain": [
       "       brand      product_name  price polarized           prescription  \\\n",
       "167   Oakley   Port Bow OX8164  174.6        No     Prescribed Glasses   \n",
       "274  Miu Miu            MU56ZS  538.2        No  Prescribed Sunglasses   \n",
       "364  Ray-Ban  New Round RB3637  232.2        No  Prescribed Sunglasses   \n",
       "432   Oakley            Cables  179.1        No  Prescribed Sunglasses   \n",
       "532  Ray-Ban            RB3751  196.2       Yes  Prescribed Sunglasses   \n",
       "\n",
       "        frame_color            Lense_Color     eye_size   item_id  \n",
       "167  Polished Clear                Clear    53 Eye Size  29419077  \n",
       "274            Gold     Light Purple Brown          NaN  74716998  \n",
       "364            Gold  Blue Gradient Glass    53 Eye Size  98350457  \n",
       "432      Blue Steel         Prizm Sapphire          NaN  24718532  \n",
       "532           Black          Green Glass    58 Eye Size  72027396  "
      ]
     },
     "execution_count": 114,
     "metadata": {},
     "output_type": "execute_result"
    }
   ],
   "source": [
    "products[products['item_id'].isin([24718532,98350457,29419077,74716998,72027396])]"
   ]
  },
  {
   "cell_type": "code",
   "execution_count": null,
   "metadata": {},
   "outputs": [],
   "source": []
  }
 ],
 "metadata": {
  "kernelspec": {
   "display_name": "fakedata",
   "language": "python",
   "name": "python3"
  },
  "language_info": {
   "codemirror_mode": {
    "name": "ipython",
    "version": 3
   },
   "file_extension": ".py",
   "mimetype": "text/x-python",
   "name": "python",
   "nbconvert_exporter": "python",
   "pygments_lexer": "ipython3",
   "version": "3.11.0"
  }
 },
 "nbformat": 4,
 "nbformat_minor": 2
}
